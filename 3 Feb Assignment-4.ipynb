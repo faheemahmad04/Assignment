{
 "cells": [
  {
   "cell_type": "markdown",
   "id": "92910d27-2275-4d80-9c61-049fb4734067",
   "metadata": {},
   "source": [
    "3rd February Assignment-4"
   ]
  },
  {
   "cell_type": "markdown",
   "id": "131f868a-0c48-4719-bb7c-109196e035d3",
   "metadata": {},
   "source": [
    "Only answers are written:---"
   ]
  },
  {
   "cell_type": "code",
   "execution_count": 14,
   "id": "f47a1785-4a77-42b1-b464-0c4f35e8cabd",
   "metadata": {},
   "outputs": [
    {
     "data": {
      "text/plain": [
       "[1, 3, 5, 7, 9, 11, 13, 15, 17, 19, 21, 23]"
      ]
     },
     "execution_count": 14,
     "metadata": {},
     "output_type": "execute_result"
    }
   ],
   "source": [
    "# Ans:1\n",
    "'''\n",
    "\"Def\" key is use to create a function in python.'''\n",
    "\n",
    "number = range(1,25)\n",
    "def test(number):\n",
    "    n1 = []\n",
    "    for i in number:\n",
    "        if i%2 != 0:\n",
    "            n1.append(i)\n",
    "    return n1\n",
    "\n",
    "\n",
    "test(number)"
   ]
  },
  {
   "cell_type": "code",
   "execution_count": 9,
   "id": "9da10421-e6f6-4fd4-8884-8b83d89fc12a",
   "metadata": {},
   "outputs": [
    {
     "name": "stdout",
     "output_type": "stream",
     "text": [
      "5\n",
      "10\n",
      "17\n",
      "26\n"
     ]
    }
   ],
   "source": [
    "# Ans:2\n",
    "\n",
    "# *args\n",
    "'''It allow us to pass n number of arguments inside a function.'''\n",
    "# example:---\n",
    "def test1(*args):\n",
    "    total = 0\n",
    "    for num in args:\n",
    "        total += num\n",
    "    return total\n",
    "\n",
    "print(test1(2, 3))\n",
    "print(test1(2, 3, 5))\n",
    "print(test1(2, 3, 5, 7))\n",
    "print(test1(2, 3, 5, 7, 9))"
   ]
  },
  {
   "cell_type": "code",
   "execution_count": 1,
   "id": "de1b0421-5fa1-4628-bce9-c1642661002d",
   "metadata": {},
   "outputs": [
    {
     "name": "stdout",
     "output_type": "stream",
     "text": [
      "5\n",
      "10\n",
      "17\n",
      "26\n"
     ]
    }
   ],
   "source": [
    "# Ans:2\n",
    "\n",
    "# **kwargs\n",
    "'''It allow us to pass n number of arguments inside a function, in the form of \"Dict\".'''\n",
    "# example:---\n",
    "def test2(**kwargs):\n",
    "    total1 = 0\n",
    "    for num1 in kwargs.values():\n",
    "        total1 += num1\n",
    "    return total1\n",
    "\n",
    "print(test2(a=2, b=3))\n",
    "print(test2(a=2, b=3, c=5))\n",
    "print(test2(a=2, b=3, c=5, d=7))\n",
    "print(test2(a=2, b=3, c=5, d=7, e=9))"
   ]
  },
  {
   "cell_type": "code",
   "execution_count": 3,
   "id": "16ecdd96-090a-4f7a-b473-0a4c7ad18582",
   "metadata": {},
   "outputs": [
    {
     "name": "stdout",
     "output_type": "stream",
     "text": [
      "2\n",
      "4\n",
      "6\n",
      "8\n",
      "10\n"
     ]
    }
   ],
   "source": [
    "# Ans:3\n",
    "'''Iterator in Python is an object that is used to iterate over iterable objects like lists, tuples, dicts, and sets.\n",
    "The iterator object is initialized using the iter() method. It uses the next() method for iteration.'''\n",
    "\n",
    "l = [2, 4, 6, 8, 10, 12, 14, 16, 18, 20]\n",
    "i = iter(l)\n",
    "\n",
    "print(next(i))\n",
    "print(next(i))\n",
    "print(next(i))\n",
    "print(next(i))\n",
    "print(next(i))"
   ]
  },
  {
   "cell_type": "code",
   "execution_count": 16,
   "id": "4e593bfe-4e1a-4ba6-9974-255263240438",
   "metadata": {},
   "outputs": [],
   "source": [
    "# Ans:4\n",
    "\n",
    "'''A generator-function is defined like a normal function, but whenever it needs to generate a value, it does so with the yield keyword rather than return.\n",
    "If the body of a def contains yield, the function automatically becomes a generator function.'''\n",
    "\n",
    "'''The yield keyword turns any expression into a generator object and return it to the caller.'''\n",
    "\n",
    "def testA():\n",
    "    L = [1,2,3,4,5]\n",
    "    for i in L:\n",
    "        yield i*2\n",
    "        \n",
    "obj = testA()"
   ]
  },
  {
   "cell_type": "code",
   "execution_count": 17,
   "id": "e967f03e-c3a7-4544-a240-93902cf2ddf0",
   "metadata": {},
   "outputs": [
    {
     "name": "stdout",
     "output_type": "stream",
     "text": [
      "2\n",
      "4\n",
      "6\n",
      "8\n",
      "10\n"
     ]
    }
   ],
   "source": [
    "print(next(obj))\n",
    "print(next(obj))\n",
    "print(next(obj))\n",
    "print(next(obj))\n",
    "print(next(obj))"
   ]
  },
  {
   "cell_type": "code",
   "execution_count": 7,
   "id": "cacdfe9c-fed3-4089-a060-1c0d18749fd7",
   "metadata": {},
   "outputs": [],
   "source": [
    "# Ans:5\n",
    "\n",
    "def testB():\n",
    "    l1 = list(range(0,1000))\n",
    "    for i in l1:\n",
    "        if i%2==1:\n",
    "            yield i\n",
    "            \n",
    "obj1 = testB()"
   ]
  },
  {
   "cell_type": "code",
   "execution_count": 8,
   "id": "f96b563e-3763-4559-b65e-71b08be39123",
   "metadata": {},
   "outputs": [
    {
     "name": "stdout",
     "output_type": "stream",
     "text": [
      "1\n",
      "3\n",
      "5\n",
      "7\n",
      "9\n",
      "11\n",
      "13\n",
      "15\n",
      "17\n",
      "19\n",
      "21\n",
      "23\n",
      "25\n",
      "27\n",
      "29\n",
      "31\n",
      "33\n",
      "35\n",
      "37\n",
      "39\n"
     ]
    }
   ],
   "source": [
    "for i in range(20):\n",
    "    print(next(obj1))"
   ]
  },
  {
   "cell_type": "code",
   "execution_count": 2,
   "id": "edb5b6cb-19cc-4326-a06b-940e9d395500",
   "metadata": {},
   "outputs": [
    {
     "name": "stdout",
     "output_type": "stream",
     "text": [
      "0\n",
      "1\n",
      "1\n",
      "2\n",
      "3\n",
      "5\n",
      "8\n",
      "13\n",
      "21\n",
      "34\n"
     ]
    }
   ],
   "source": [
    "# Ans:6\n",
    "\n",
    "number = 10\n",
    "a = 0\n",
    "b = 1\n",
    "counter = 0\n",
    "while counter < number:\n",
    "    print(a)\n",
    "    c = a+b\n",
    "    a = b\n",
    "    b = c\n",
    "    counter = counter + 1"
   ]
  },
  {
   "cell_type": "code",
   "execution_count": 4,
   "id": "015c983d-5d56-4315-b10f-e53fdaac0393",
   "metadata": {},
   "outputs": [
    {
     "name": "stdout",
     "output_type": "stream",
     "text": [
      "['p', 'w', 's', 'k', 'i', 'l', 'l', 's']\n"
     ]
    }
   ],
   "source": [
    "# Ans:7\n",
    "\n",
    "l = [char for char in \"pwskills\"]\n",
    "\n",
    "print(l)"
   ]
  },
  {
   "cell_type": "code",
   "execution_count": 3,
   "id": "3baddc84-1af1-40fe-a4e2-368c3a75ce66",
   "metadata": {},
   "outputs": [
    {
     "data": {
      "text/plain": [
       "['p', 'w', 's', 'k', 'i', 'l', 'l', 's']"
      ]
     },
     "execution_count": 3,
     "metadata": {},
     "output_type": "execute_result"
    }
   ],
   "source": [
    "# Ans:7\n",
    "\n",
    "[char for char in \"pwskills\"]"
   ]
  },
  {
   "cell_type": "code",
   "execution_count": 29,
   "id": "ea89c858-18ee-4bab-9d5d-65150b38385f",
   "metadata": {},
   "outputs": [
    {
     "name": "stdin",
     "output_type": "stream",
     "text": [
      "enter the num:  12321\n"
     ]
    },
    {
     "name": "stdout",
     "output_type": "stream",
     "text": [
      "The reverse number is:  12321\n",
      "The number is a palindrome\n"
     ]
    }
   ],
   "source": [
    "# Ans:8\n",
    "\n",
    "num = int(input(\"enter the num: \"))\n",
    "temp = num\n",
    "reverse = 0\n",
    "\n",
    "while num > 0:\n",
    "    dig = num % 10\n",
    "    reverse = reverse * 10 + dig\n",
    "    num = num // 10\n",
    "    \n",
    "print(\"The reverse number is: \", reverse)\n",
    "\n",
    "if temp == reverse:\n",
    "    print(\"The number is a palindrome\")\n",
    "else:\n",
    "    print(\"The number is not a palindrome\")"
   ]
  },
  {
   "cell_type": "code",
   "execution_count": 30,
   "id": "2152a987-5de5-4cdb-9821-2f269138bda7",
   "metadata": {},
   "outputs": [
    {
     "data": {
      "text/plain": [
       "[1,\n",
       " 3,\n",
       " 5,\n",
       " 7,\n",
       " 9,\n",
       " 11,\n",
       " 13,\n",
       " 15,\n",
       " 17,\n",
       " 19,\n",
       " 21,\n",
       " 23,\n",
       " 25,\n",
       " 27,\n",
       " 29,\n",
       " 31,\n",
       " 33,\n",
       " 35,\n",
       " 37,\n",
       " 39,\n",
       " 41,\n",
       " 43,\n",
       " 45,\n",
       " 47,\n",
       " 49,\n",
       " 51,\n",
       " 53,\n",
       " 55,\n",
       " 57,\n",
       " 59,\n",
       " 61,\n",
       " 63,\n",
       " 65,\n",
       " 67,\n",
       " 69,\n",
       " 71,\n",
       " 73,\n",
       " 75,\n",
       " 77,\n",
       " 79,\n",
       " 81,\n",
       " 83,\n",
       " 85,\n",
       " 87,\n",
       " 89,\n",
       " 91,\n",
       " 93,\n",
       " 95,\n",
       " 97,\n",
       " 99]"
      ]
     },
     "execution_count": 30,
     "metadata": {},
     "output_type": "execute_result"
    }
   ],
   "source": [
    "# Ans:9\n",
    "\n",
    "[i for i in range(1,100) if i%2!=0]"
   ]
  },
  {
   "cell_type": "code",
   "execution_count": null,
   "id": "cb4e1e62-4078-4a21-89f5-bc597745f456",
   "metadata": {},
   "outputs": [],
   "source": []
  }
 ],
 "metadata": {
  "kernelspec": {
   "display_name": "Python 3 (ipykernel)",
   "language": "python",
   "name": "python3"
  },
  "language_info": {
   "codemirror_mode": {
    "name": "ipython",
    "version": 3
   },
   "file_extension": ".py",
   "mimetype": "text/x-python",
   "name": "python",
   "nbconvert_exporter": "python",
   "pygments_lexer": "ipython3",
   "version": "3.10.8"
  }
 },
 "nbformat": 4,
 "nbformat_minor": 5
}
