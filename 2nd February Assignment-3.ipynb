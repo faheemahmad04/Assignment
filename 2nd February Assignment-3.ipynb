{
 "cells": [
  {
   "cell_type": "markdown",
   "id": "a54a2f63-bc43-4c50-a17e-a3afb8b0f725",
   "metadata": {},
   "source": [
    "2nd February Assignment-3"
   ]
  },
  {
   "cell_type": "markdown",
   "id": "9259309b-7363-4212-a243-b2f3df5967ac",
   "metadata": {},
   "source": [
    "Only answers are written"
   ]
  },
  {
   "cell_type": "code",
   "execution_count": 5,
   "id": "7ca5b9f5-a187-4cf9-b7ee-61aad2ef179c",
   "metadata": {},
   "outputs": [
    {
     "name": "stdout",
     "output_type": "stream",
     "text": [
      "0\n",
      "1\n",
      "2\n",
      "3\n",
      "4\n",
      "0\n",
      "1\n",
      "2\n",
      "3\n",
      "4\n",
      "This is else statement\n",
      "0\n",
      "1\n",
      "2\n",
      "3\n",
      "4\n",
      "0\n",
      "1\n",
      "2\n",
      "3\n",
      "4\n",
      "This is else statement\n"
     ]
    }
   ],
   "source": [
    "# Ans:1\n",
    "'''For Loop is used to iterate over an iterable.\n",
    "for example:---'''\n",
    "\n",
    "for i in range(0,5):\n",
    "    print(i)\n",
    "    \n",
    "'''For - Else loop :---\n",
    "We can use an else statement in a for loop.\n",
    "The else block is executed when the looping comes to an end.\n",
    "for example:---'''\n",
    "\n",
    "for i in range(0,5):\n",
    "    print(i)\n",
    "else:\n",
    "    print(\"This is else statement\")\n",
    "    \n",
    "    \n",
    "    \n",
    "'''While Loop is use to repeat a block of statement until a given condition is satisfied.\n",
    "when condition becomes false the looping terminates.\n",
    "for example:---'''\n",
    "\n",
    "a = 0\n",
    "while a < 5:\n",
    "    print(a)\n",
    "    a += 1\n",
    "    \n",
    "    \n",
    "'''While - Else loop :---\n",
    "We can use an else statement in a while loop.\n",
    "The else block is executed when the looping condition becomes false.\n",
    "If a loop is terminated by a 'break' statement, the else block will not execute.\n",
    "for example:---'''\n",
    "\n",
    "b = 0\n",
    "while b < 5:\n",
    "    print(b)\n",
    "    b += 1\n",
    "else:\n",
    "    print(\"This is else statement\")"
   ]
  },
  {
   "cell_type": "code",
   "execution_count": 12,
   "id": "6e7adbeb-d086-45f0-8d49-8be7353b2448",
   "metadata": {},
   "outputs": [
    {
     "name": "stdout",
     "output_type": "stream",
     "text": [
      "55 55\n"
     ]
    }
   ],
   "source": [
    "# Ans:2\n",
    "# By using For Loop\n",
    "\n",
    "n = range(0,10)\n",
    "starts = 0\n",
    "successor = 1\n",
    "\n",
    "for i in n:\n",
    "    starts = starts + successor\n",
    "    successor += 1\n",
    "starts\n",
    "\n",
    "\n",
    "# By using While Loop\n",
    "\n",
    "n = 10\n",
    "starting = 0\n",
    "forward = 1\n",
    "\n",
    "while forward <= n:\n",
    "    starting += forward\n",
    "    forward += 1\n",
    "starting\n",
    "\n",
    "print(starts, starting)"
   ]
  },
  {
   "cell_type": "code",
   "execution_count": 17,
   "id": "74e8f790-203f-4bf3-9075-a43eaaf72db4",
   "metadata": {},
   "outputs": [
    {
     "name": "stdin",
     "output_type": "stream",
     "text": [
      "Your units of electricity consumption 301\n"
     ]
    },
    {
     "name": "stdout",
     "output_type": "stream",
     "text": [
      "You will be charged Rs.20 per unit\n",
      "Your payable amount is 6020\n"
     ]
    }
   ],
   "source": [
    "# Ans:3\n",
    "\n",
    "unit = int(input(\"Your units of electricity consumption\"))\n",
    "\n",
    "if unit <= 100:\n",
    "    print(\"You will be charged Rs.4.5 per unit\")\n",
    "    print(\"Your payable amount is\", unit*4.5)\n",
    "    \n",
    "elif unit > 100 and unit <= 200:\n",
    "    print(\"You will be charged Rs.6 per unit\")\n",
    "    print(\"Your payable amount is\", unit*6)\n",
    "    \n",
    "elif unit > 200 and unit <= 300:\n",
    "    print(\"You will be charged Rs.10 per unit\")\n",
    "    print(\"Your payable amount is\", unit*10)\n",
    "    \n",
    "else:\n",
    "    print(\"You will be charged Rs.20 per unit\")\n",
    "    print(\"Your payable amount is\", unit*20)"
   ]
  },
  {
   "cell_type": "code",
   "execution_count": 5,
   "id": "4c7ed2d5-9bb6-4599-a44a-e12fa19f3ce4",
   "metadata": {},
   "outputs": [
    {
     "data": {
      "text/plain": [
       "[16.0,\n",
       " 128.0,\n",
       " 432.0,\n",
       " 1024.0,\n",
       " 2000.0,\n",
       " 3456.0,\n",
       " 5488.0,\n",
       " 8192.0,\n",
       " 11664.0,\n",
       " 16000.0,\n",
       " 21296.0,\n",
       " 27648.0,\n",
       " 35152.0,\n",
       " 43904.0,\n",
       " 54000.0,\n",
       " 65536.0,\n",
       " 78608.0,\n",
       " 93312.0,\n",
       " 109744.0,\n",
       " 128000.0,\n",
       " 148176.0,\n",
       " 170368.0,\n",
       " 194672.0,\n",
       " 221184.0,\n",
       " 250000.0]"
      ]
     },
     "execution_count": 5,
     "metadata": {},
     "output_type": "execute_result"
    }
   ],
   "source": [
    "# Ans:4\n",
    "# By for loop\n",
    "\n",
    "l = list(range(1,101))\n",
    "l1 = []\n",
    "for i in l:\n",
    "    j = (i**3)/4\n",
    "    if j % 4 == 0:\n",
    "        l1.append(j)\n",
    "l1\n"
   ]
  },
  {
   "cell_type": "code",
   "execution_count": 7,
   "id": "301a2947-288f-4895-8e32-b074644d2f76",
   "metadata": {},
   "outputs": [
    {
     "name": "stdout",
     "output_type": "stream",
     "text": [
      "16.0\n",
      "128.0\n",
      "432.0\n",
      "1024.0\n",
      "2000.0\n",
      "3456.0\n",
      "5488.0\n",
      "8192.0\n",
      "11664.0\n",
      "16000.0\n",
      "21296.0\n",
      "27648.0\n",
      "35152.0\n",
      "43904.0\n",
      "54000.0\n",
      "65536.0\n",
      "78608.0\n",
      "93312.0\n",
      "109744.0\n",
      "128000.0\n",
      "148176.0\n",
      "170368.0\n",
      "194672.0\n",
      "221184.0\n",
      "250000.0\n"
     ]
    }
   ],
   "source": [
    "#  Ans:4\n",
    "\n",
    "# By while loop\n",
    "\n",
    "l2 = 1\n",
    "l3 = []\n",
    "while l2 <= 100:\n",
    "    l3 = (l2**3)/4\n",
    "    l2+=1\n",
    "    if l3%4==0:\n",
    "        print(l3)\n",
    "# I am unable to make l3 in list form. Please help.\n"
   ]
  },
  {
   "cell_type": "code",
   "execution_count": 6,
   "id": "a89ea679-cae0-427d-8c1a-b25910bfab0f",
   "metadata": {},
   "outputs": [
    {
     "name": "stdout",
     "output_type": "stream",
     "text": [
      "No. of vowels are:  12\n"
     ]
    }
   ],
   "source": [
    "# Ans:5\n",
    "\n",
    "string = \"I want to become a data scientist\"\n",
    "count =  0\n",
    "for j in range(len(string)):\n",
    "    if (\n",
    "        (string[j]=='a')\n",
    "        or (string[j]=='e')\n",
    "        or (string[j]=='i')\n",
    "        or (string[j]=='I')\n",
    "        or (string[j]=='o')\n",
    "        or (string[j]=='u')\n",
    "       ):\n",
    "        count +=1\n",
    "print(\"No. of vowels are: \", count)"
   ]
  },
  {
   "cell_type": "code",
   "execution_count": null,
   "id": "02020198-084d-4754-9d6f-6c30dc356182",
   "metadata": {},
   "outputs": [],
   "source": []
  }
 ],
 "metadata": {
  "kernelspec": {
   "display_name": "Python 3 (ipykernel)",
   "language": "python",
   "name": "python3"
  },
  "language_info": {
   "codemirror_mode": {
    "name": "ipython",
    "version": 3
   },
   "file_extension": ".py",
   "mimetype": "text/x-python",
   "name": "python",
   "nbconvert_exporter": "python",
   "pygments_lexer": "ipython3",
   "version": "3.10.8"
  }
 },
 "nbformat": 4,
 "nbformat_minor": 5
}
