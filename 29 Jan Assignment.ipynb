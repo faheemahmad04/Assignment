{
 "cells": [
  {
   "cell_type": "markdown",
   "id": "e67434c6-9e1d-419e-87cb-ddb2eb0523ca",
   "metadata": {},
   "source": [
    "29th January Assignment"
   ]
  },
  {
   "cell_type": "markdown",
   "id": "8e8e6f8b-db3d-44f9-bf89-7ce58ee1db66",
   "metadata": {},
   "source": [
    "Only answer are written:---"
   ]
  },
  {
   "cell_type": "markdown",
   "id": "c03ed428-de7c-4635-83e0-475835ff523e",
   "metadata": {},
   "source": [
    "Ans:1) Guido Van Rossum"
   ]
  },
  {
   "cell_type": "markdown",
   "id": "94a9fd37-6fd7-4f12-9430-a10152865875",
   "metadata": {},
   "source": [
    "Ans:2) Python supports both object-oriented and procedural programming"
   ]
  },
  {
   "cell_type": "markdown",
   "id": "5fa8509e-cc10-4d74-a89f-4d1ae13f20e5",
   "metadata": {},
   "source": [
    "Ans:3) Yes"
   ]
  },
  {
   "cell_type": "markdown",
   "id": "04e6ae38-73f4-47dc-bafb-240f293d3fdf",
   "metadata": {},
   "source": [
    "Ans:4) .py is the correct extension of python file"
   ]
  },
  {
   "cell_type": "markdown",
   "id": "4f44b345-9b39-4f45-9156-398377d24603",
   "metadata": {},
   "source": [
    "Ans:5) Python code is both Compiled and Interpreted. "
   ]
  },
  {
   "cell_type": "markdown",
   "id": "5d6763c7-a3e5-4cb1-b41a-cc80f2d76063",
   "metadata": {},
   "source": [
    "Ans:6) functions like:- if , for, while etc "
   ]
  },
  {
   "cell_type": "markdown",
   "id": "5e3fafac-5668-419e-a6b9-f7f799824670",
   "metadata": {},
   "source": [
    "Ans:7) we used to put #hash mark before our desired comment."
   ]
  },
  {
   "cell_type": "markdown",
   "id": "a50c822e-8c7c-4bc1-a784-8cf5facd94b3",
   "metadata": {},
   "source": [
    "Ans:8) Don't know"
   ]
  },
  {
   "cell_type": "markdown",
   "id": "c92f34f2-aade-4c8f-a7cb-25be55f820ce",
   "metadata": {},
   "source": [
    "Ans:9) Don't know"
   ]
  },
  {
   "cell_type": "markdown",
   "id": "a551c316-d9d4-4bfd-a2cf-8294c7036f01",
   "metadata": {},
   "source": [
    "Ans:10)PIP Installs Packages"
   ]
  },
  {
   "cell_type": "markdown",
   "id": "30944c6e-cead-4681-acf4-0ec4f106a627",
   "metadata": {},
   "source": [
    "Ans:11) int, str, bool, float, list, tuple, set, dict etc"
   ]
  },
  {
   "cell_type": "markdown",
   "id": "b9a4eadf-b13a-41d5-8412-e5935e78c9d8",
   "metadata": {},
   "source": [
    "Ans:12) Don't know"
   ]
  },
  {
   "cell_type": "markdown",
   "id": "5d41640c-6d51-4a41-8a3f-bf44e5acd712",
   "metadata": {},
   "source": [
    "Ans:13 It is a simplest programming language among all."
   ]
  },
  {
   "cell_type": "markdown",
   "id": "da843ad0-e425-4928-827f-ac064d3569bf",
   "metadata": {},
   "source": [
    "Ans:14) There are two parts of memory:\n",
    "a.) stack memory.\n",
    "b.) heap memory.\n",
    "The mothods calls and references are stored in stack memory.\n",
    "All the values objects are stored in a private heap."
   ]
  },
  {
   "cell_type": "markdown",
   "id": "a6ee8593-a971-4bcc-aa1e-9fe097932895",
   "metadata": {},
   "source": [
    "Ans:15) Don't know"
   ]
  },
  {
   "cell_type": "markdown",
   "id": "d341b52e-8db3-4a2f-ad6c-500bc2ba7a32",
   "metadata": {},
   "source": [
    "Ans:16( Yes"
   ]
  }
 ],
 "metadata": {
  "kernelspec": {
   "display_name": "Python 3 (ipykernel)",
   "language": "python",
   "name": "python3"
  },
  "language_info": {
   "codemirror_mode": {
    "name": "ipython",
    "version": 3
   },
   "file_extension": ".py",
   "mimetype": "text/x-python",
   "name": "python",
   "nbconvert_exporter": "python",
   "pygments_lexer": "ipython3",
   "version": "3.10.8"
  }
 },
 "nbformat": 4,
 "nbformat_minor": 5
}
